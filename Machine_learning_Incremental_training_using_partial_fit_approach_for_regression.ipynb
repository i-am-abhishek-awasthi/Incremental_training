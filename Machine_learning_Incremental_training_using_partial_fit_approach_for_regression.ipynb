{
  "nbformat": 4,
  "nbformat_minor": 0,
  "metadata": {
    "colab": {
      "name": "Machine learning Incremental training using partial fit approach for regression.ipynb",
      "provenance": [],
      "collapsed_sections": []
    },
    "kernelspec": {
      "name": "python3",
      "display_name": "Python 3"
    },
    "language_info": {
      "name": "python"
    }
  },
  "cells": [
    {
      "cell_type": "markdown",
      "source": [
        "# Incremental Machine learning model training for regression technique using partial fit\n",
        "\n"
      ],
      "metadata": {
        "id": "1jl632eMeigL"
      }
    },
    {
      "cell_type": "code",
      "source": [
        "## Importing libraries\n",
        "\n",
        "from sklearn import datasets\n",
        "from sklearn.model_selection import train_test_split\n",
        "from sklearn.metrics import mean_squared_error, r2_score\n",
        "from sklearn.linear_model import SGDRegressor as sgd"
      ],
      "metadata": {
        "id": "Cjs-nZEIeazv"
      },
      "execution_count": 1,
      "outputs": []
    },
    {
      "cell_type": "code",
      "source": [
        "# creating dummy data samples (Any other data set can also be used)\n",
        "\n",
        "X, Y = datasets.make_regression(n_samples=100000, random_state=42)\n",
        "X_train, X_test, Y_train, Y_test = train_test_split(X, Y, train_size=0.9, random_state=42)\n",
        "X_train.shape, X_test.shape, Y_train.shape, Y_test.shape"
      ],
      "metadata": {
        "colab": {
          "base_uri": "https://localhost:8080/"
        },
        "id": "GrTYfMMBfD4d",
        "outputId": "93cd8cff-f1a1-4999-83b9-d8f4f468037c"
      },
      "execution_count": 2,
      "outputs": [
        {
          "output_type": "execute_result",
          "data": {
            "text/plain": [
              "((90000, 100), (10000, 100), (90000,), (10000,))"
            ]
          },
          "metadata": {},
          "execution_count": 2
        }
      ]
    },
    {
      "cell_type": "code",
      "source": [
        "X_train[0].shape, Y_train[0].shape"
      ],
      "metadata": {
        "colab": {
          "base_uri": "https://localhost:8080/"
        },
        "id": "LeBhA6o8fQrz",
        "outputId": "1191cf1d-4109-4fac-fbd8-26a1c96ae881"
      },
      "execution_count": 3,
      "outputs": [
        {
          "output_type": "execute_result",
          "data": {
            "text/plain": [
              "((100,), ())"
            ]
          },
          "metadata": {},
          "execution_count": 3
        }
      ]
    },
    {
      "cell_type": "code",
      "source": [
        "#reshaping data\n",
        "\n",
        "X_train, X_test = X_train.reshape(-1,10,100), X_test.reshape(-1,10,100)\n",
        "Y_train, Y_test = Y_train.reshape(-1,10), Y_test.reshape(-1,10)\n",
        "\n",
        "X_train.shape, X_test.shape, Y_train.shape, Y_test.shape"
      ],
      "metadata": {
        "colab": {
          "base_uri": "https://localhost:8080/"
        },
        "id": "LW84DiphfZ0w",
        "outputId": "66ba78dd-6d6e-47dd-f958-0ed0a69c265d"
      },
      "execution_count": 4,
      "outputs": [
        {
          "output_type": "execute_result",
          "data": {
            "text/plain": [
              "((9000, 10, 100), (1000, 10, 100), (9000, 10), (1000, 10))"
            ]
          },
          "metadata": {},
          "execution_count": 4
        }
      ]
    },
    {
      "cell_type": "code",
      "source": [
        "X_train[0].shape, Y_train[0].shape"
      ],
      "metadata": {
        "colab": {
          "base_uri": "https://localhost:8080/"
        },
        "id": "BPduiFZ8fc8O",
        "outputId": "ea0f0330-7446-43b5-ed58-df602f6321eb"
      },
      "execution_count": 5,
      "outputs": [
        {
          "output_type": "execute_result",
          "data": {
            "text/plain": [
              "((10, 100), (10,))"
            ]
          },
          "metadata": {},
          "execution_count": 5
        }
      ]
    },
    {
      "cell_type": "markdown",
      "source": [
        "# Model training"
      ],
      "metadata": {
        "id": "bmjiLeKNf67q"
      }
    },
    {
      "cell_type": "code",
      "source": [
        "%%time\n",
        "\n",
        "regressor = sgd()  #using linear regression\n",
        "epochs = 5 # epochs / iterations data go through\n",
        "for k in range(epochs): \n",
        "    for i in range(X_train.shape[0]): \n",
        "        X_batch, Y_batch = X_train[i], Y_train[i]\n",
        "        regressor.partial_fit(X_batch, Y_batch)"
      ],
      "metadata": {
        "colab": {
          "base_uri": "https://localhost:8080/"
        },
        "id": "lZXsL1aAfk4B",
        "outputId": "b0426ad8-36f0-4f61-ab3c-0720ae327ec5"
      },
      "execution_count": 6,
      "outputs": [
        {
          "output_type": "stream",
          "name": "stdout",
          "text": [
            "CPU times: user 11.8 s, sys: 42.1 ms, total: 11.9 s\n",
            "Wall time: 14.8 s\n"
          ]
        }
      ]
    },
    {
      "cell_type": "markdown",
      "source": [
        "# Model  Prediction"
      ],
      "metadata": {
        "id": "5XWOHXTTixbW"
      }
    },
    {
      "cell_type": "code",
      "source": [
        "y_test_predictions = []\n",
        "for j in range(X_test.shape[0]): \n",
        "    Y_preds = regressor.predict(X_test[j])\n",
        "    y_test_predictions.extend(Y_preds.tolist())\n",
        "\n",
        "print(\"Mean Squared Error\",mean_squared_error(Y_test.reshape(-1), y_test_predictions))\n",
        "print(\"R2 Score : \",r2_score(Y_test.reshape(-1), y_test_predictions))"
      ],
      "metadata": {
        "colab": {
          "base_uri": "https://localhost:8080/"
        },
        "id": "fd91d0TvgUGq",
        "outputId": "680a85b8-f2da-423f-d844-35e36a7bdb3d"
      },
      "execution_count": 7,
      "outputs": [
        {
          "output_type": "stream",
          "name": "stdout",
          "text": [
            "Mean Squared Error 0.0002119382886700794\n",
            "R2 Score :  0.9999999896602724\n"
          ]
        }
      ]
    },
    {
      "cell_type": "markdown",
      "source": [
        "# From test predictions result we can conclude that partial_fit is also one of the incremental approach for model training."
      ],
      "metadata": {
        "id": "q_J1lSxzjD9O"
      }
    }
  ]
}