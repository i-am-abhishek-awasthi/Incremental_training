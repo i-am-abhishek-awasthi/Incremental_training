{
  "nbformat": 4,
  "nbformat_minor": 0,
  "metadata": {
    "colab": {
      "name": "Incremental Training using creme library for Machine Learning for Classification Problem.ipynb",
      "provenance": []
    },
    "kernelspec": {
      "name": "python3",
      "display_name": "Python 3"
    },
    "language_info": {
      "name": "python"
    }
  },
  "cells": [
    {
      "cell_type": "markdown",
      "source": [
        "Incremental Training Approach for Classification [Creme Library](https://pypi.org/project/creme/) is used"
      ],
      "metadata": {
        "id": "UE4SulGNzFCG"
      }
    },
    {
      "cell_type": "code",
      "execution_count": 1,
      "metadata": {
        "colab": {
          "base_uri": "https://localhost:8080/"
        },
        "id": "XX4tRIcVy5Gd",
        "outputId": "b9c7805b-6415-463c-8c7f-340d6f767e37"
      },
      "outputs": [
        {
          "output_type": "stream",
          "name": "stdout",
          "text": [
            "Looking in indexes: https://pypi.org/simple, https://us-python.pkg.dev/colab-wheels/public/simple/\n",
            "Collecting creme\n",
            "  Downloading creme-0.6.1-cp37-cp37m-manylinux2010_x86_64.whl (1.1 MB)\n",
            "\u001b[K     |████████████████████████████████| 1.1 MB 12.6 MB/s \n",
            "\u001b[?25hRequirement already satisfied: scipy>=1.4.1 in /usr/local/lib/python3.7/dist-packages (from creme) (1.4.1)\n",
            "Requirement already satisfied: numpy>=1.18.1 in /usr/local/lib/python3.7/dist-packages (from creme) (1.21.6)\n",
            "Collecting mmh3==2.5.1\n",
            "  Downloading mmh3-2.5.1.tar.gz (9.8 kB)\n",
            "Requirement already satisfied: pandas>=1.0.1 in /usr/local/lib/python3.7/dist-packages (from creme) (1.3.5)\n",
            "Requirement already satisfied: python-dateutil>=2.7.3 in /usr/local/lib/python3.7/dist-packages (from pandas>=1.0.1->creme) (2.8.2)\n",
            "Requirement already satisfied: pytz>=2017.3 in /usr/local/lib/python3.7/dist-packages (from pandas>=1.0.1->creme) (2022.1)\n",
            "Requirement already satisfied: six>=1.5 in /usr/local/lib/python3.7/dist-packages (from python-dateutil>=2.7.3->pandas>=1.0.1->creme) (1.15.0)\n",
            "Building wheels for collected packages: mmh3\n",
            "  Building wheel for mmh3 (setup.py) ... \u001b[?25l\u001b[?25hdone\n",
            "  Created wheel for mmh3: filename=mmh3-2.5.1-cp37-cp37m-linux_x86_64.whl size=39665 sha256=55f0640a4d75bea67def96c9c3df956fa1ee4a4d627e454c2c1ede0d93ec212b\n",
            "  Stored in directory: /root/.cache/pip/wheels/ae/45/25/90e097a519143b2dca74cd93a056894a965f27908103e01799\n",
            "Successfully built mmh3\n",
            "Installing collected packages: mmh3, creme\n",
            "Successfully installed creme-0.6.1 mmh3-2.5.1\n"
          ]
        }
      ],
      "source": [
        "!pip install creme"
      ]
    },
    {
      "cell_type": "code",
      "source": [
        "#importing libraries\n",
        "\n",
        "from creme import compose\n",
        "from creme import datasets\n",
        "from creme import linear_model\n",
        "from creme import metrics\n",
        "from creme import preprocessing"
      ],
      "metadata": {
        "id": "If036EIhzOQ2"
      },
      "execution_count": 2,
      "outputs": []
    },
    {
      "cell_type": "code",
      "source": [
        "#sample data\n",
        "data = datasets.Phishing()\n",
        "data"
      ],
      "metadata": {
        "colab": {
          "base_uri": "https://localhost:8080/"
        },
        "id": "cruvNfxYzPx5",
        "outputId": "5a4dae39-be72-4067-b008-07dc843298ee"
      },
      "execution_count": 3,
      "outputs": [
        {
          "output_type": "execute_result",
          "data": {
            "text/plain": [
              "Phishing dataset\n",
              "\n",
              "              Task  Binary classification                                                \n",
              " Number of samples  1,250                                                                \n",
              "Number of features  9                                                                    \n",
              "            Sparse  False                                                                \n",
              "              Path  /usr/local/lib/python3.7/dist-packages/creme/datasets/phishing.csv.gz"
            ]
          },
          "metadata": {},
          "execution_count": 3
        }
      ]
    },
    {
      "cell_type": "code",
      "source": [
        "#creating model pipeline\n",
        "model = compose.Pipeline(\n",
        "   preprocessing.StandardScaler(),\n",
        " linear_model.LogisticRegression()\n",
        ")\n",
        "metric = metrics.Accuracy()\n",
        "\n"
      ],
      "metadata": {
        "id": "gmoWmN05zRWc"
      },
      "execution_count": 4,
      "outputs": []
    },
    {
      "cell_type": "code",
      "source": [
        "%%time\n",
        "\n",
        "for x, y in data:\n",
        "    y_pred = model.predict_one(x)      # make a prediction\n",
        "    metric = metric.update(y, y_pred)  # update the metric\n",
        "    model = model.fit_one(x, y)        # make the model learn\n"
      ],
      "metadata": {
        "colab": {
          "base_uri": "https://localhost:8080/"
        },
        "id": "L8b0mKURzTBf",
        "outputId": "19507211-e7c2-42f4-cd7e-f7d7c67df159"
      },
      "execution_count": 5,
      "outputs": [
        {
          "output_type": "stream",
          "name": "stdout",
          "text": [
            "CPU times: user 145 ms, sys: 6.78 ms, total: 151 ms\n",
            "Wall time: 153 ms\n"
          ]
        }
      ]
    },
    {
      "cell_type": "code",
      "source": [
        "model"
      ],
      "metadata": {
        "colab": {
          "base_uri": "https://localhost:8080/"
        },
        "id": "UWPOtSKwzVIK",
        "outputId": "090b128e-44d1-4b2b-aa5b-590b33fcee54"
      },
      "execution_count": 6,
      "outputs": [
        {
          "output_type": "execute_result",
          "data": {
            "text/plain": [
              "Pipeline (\n",
              "  StandardScaler (),\n",
              "  LogisticRegression (\n",
              "    optimizer=SGD (\n",
              "      lr=Constant (\n",
              "        learning_rate=0.01\n",
              "      )\n",
              "    )\n",
              "    loss=Log (\n",
              "      weight_pos=1.\n",
              "      weight_neg=1.\n",
              "    )\n",
              "    l2=0.\n",
              "    intercept=-0.354066\n",
              "    intercept_lr=Constant (\n",
              "      learning_rate=0.01\n",
              "    )\n",
              "    clip_gradient=1e+12\n",
              "    initializer=Zeros ()\n",
              "  )\n",
              ")"
            ]
          },
          "metadata": {},
          "execution_count": 6
        }
      ]
    },
    {
      "cell_type": "code",
      "source": [
        "metric"
      ],
      "metadata": {
        "colab": {
          "base_uri": "https://localhost:8080/"
        },
        "id": "DY9eiscGzWzN",
        "outputId": "f0571634-28e3-47db-b51e-f1266abffc5b"
      },
      "execution_count": 7,
      "outputs": [
        {
          "output_type": "execute_result",
          "data": {
            "text/plain": [
              "Accuracy: 89.20%"
            ]
          },
          "metadata": {},
          "execution_count": 7
        }
      ]
    },
    {
      "cell_type": "markdown",
      "source": [
        "# Creating test sample data and prediction result\n"
      ],
      "metadata": {
        "id": "cJ8Bu5NdzbBY"
      }
    },
    {
      "cell_type": "code",
      "source": [
        "test_data =  {'anchor_from_other_domain': 1.0,\n",
        " 'empty_server_form_handler': 1.0,\n",
        " 'https': 1.0,\n",
        " 'ip_in_url': 0,\n",
        " 'is_popular': 0.2,\n",
        " 'long_url': 0.5,\n",
        " 'popup_window': 0.5,\n",
        " 'request_from_other_domain': 1.0}\n",
        "\n",
        "model.predict_one(test_data)"
      ],
      "metadata": {
        "colab": {
          "base_uri": "https://localhost:8080/"
        },
        "id": "59m2UksVzYar",
        "outputId": "2f9c24f9-9b3e-4e9d-9914-2597375aae4c"
      },
      "execution_count": 8,
      "outputs": [
        {
          "output_type": "execute_result",
          "data": {
            "text/plain": [
              "False"
            ]
          },
          "metadata": {},
          "execution_count": 8
        }
      ]
    }
  ]
}