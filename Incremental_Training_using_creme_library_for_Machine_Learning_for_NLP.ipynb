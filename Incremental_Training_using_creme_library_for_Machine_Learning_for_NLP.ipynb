{
  "nbformat": 4,
  "nbformat_minor": 0,
  "metadata": {
    "colab": {
      "name": "Incremental Training using creme library for Machine Learning for NLP.ipynb",
      "provenance": []
    },
    "kernelspec": {
      "name": "python3",
      "display_name": "Python 3"
    },
    "language_info": {
      "name": "python"
    }
  },
  "cells": [
    {
      "cell_type": "markdown",
      "source": [
        "For Incremental Training for NLP [Creme Library](https://pypi.org/project/creme/) is used "
      ],
      "metadata": {
        "id": "SkUugCtZk1sM"
      }
    },
    {
      "cell_type": "code",
      "source": [
        "!pip install creme"
      ],
      "metadata": {
        "colab": {
          "base_uri": "https://localhost:8080/"
        },
        "id": "ZaHOi0WflA3Q",
        "outputId": "3f9de606-8aea-4b79-f921-be4aa6c74a3d"
      },
      "execution_count": 2,
      "outputs": [
        {
          "output_type": "stream",
          "name": "stdout",
          "text": [
            "Looking in indexes: https://pypi.org/simple, https://us-python.pkg.dev/colab-wheels/public/simple/\n",
            "Collecting creme\n",
            "  Downloading creme-0.6.1-cp37-cp37m-manylinux2010_x86_64.whl (1.1 MB)\n",
            "\u001b[K     |████████████████████████████████| 1.1 MB 25.6 MB/s \n",
            "\u001b[?25hRequirement already satisfied: pandas>=1.0.1 in /usr/local/lib/python3.7/dist-packages (from creme) (1.3.5)\n",
            "Collecting mmh3==2.5.1\n",
            "  Downloading mmh3-2.5.1.tar.gz (9.8 kB)\n",
            "Requirement already satisfied: numpy>=1.18.1 in /usr/local/lib/python3.7/dist-packages (from creme) (1.21.6)\n",
            "Requirement already satisfied: scipy>=1.4.1 in /usr/local/lib/python3.7/dist-packages (from creme) (1.4.1)\n",
            "Requirement already satisfied: pytz>=2017.3 in /usr/local/lib/python3.7/dist-packages (from pandas>=1.0.1->creme) (2022.1)\n",
            "Requirement already satisfied: python-dateutil>=2.7.3 in /usr/local/lib/python3.7/dist-packages (from pandas>=1.0.1->creme) (2.8.2)\n",
            "Requirement already satisfied: six>=1.5 in /usr/local/lib/python3.7/dist-packages (from python-dateutil>=2.7.3->pandas>=1.0.1->creme) (1.15.0)\n",
            "Building wheels for collected packages: mmh3\n",
            "  Building wheel for mmh3 (setup.py) ... \u001b[?25l\u001b[?25hdone\n",
            "  Created wheel for mmh3: filename=mmh3-2.5.1-cp37-cp37m-linux_x86_64.whl size=39676 sha256=fbdb0933adb2f2e3d1de9b6337eadebf49715e0f166fcbfcf1ecd39d5fa59cca\n",
            "  Stored in directory: /root/.cache/pip/wheels/ae/45/25/90e097a519143b2dca74cd93a056894a965f27908103e01799\n",
            "Successfully built mmh3\n",
            "Installing collected packages: mmh3, creme\n",
            "Successfully installed creme-0.6.1 mmh3-2.5.1\n"
          ]
        }
      ]
    },
    {
      "cell_type": "code",
      "source": [
        "#importing libraries\n",
        "import math\n",
        "import creme\n",
        "from creme import compose\n",
        "from creme import feature_extraction\n",
        "from creme import naive_bayes"
      ],
      "metadata": {
        "id": "ZBBRzBmdkM5X"
      },
      "execution_count": 3,
      "outputs": []
    },
    {
      "cell_type": "code",
      "source": [
        "#data need to be in tuple form\n",
        "\n",
        "data = [   ('Raj is a good boy', 'no'),\n",
        " ('Abhishek is very smart and intelligent', 'yes'),\n",
        "('Arman is from Japan', 'no'),\n",
        "('Neha likes swimming', 'no'),\n",
        "('Simran is good in marketing','yes')\n",
        "]"
      ],
      "metadata": {
        "id": "unWycaY8kRzK"
      },
      "execution_count": 4,
      "outputs": []
    },
    {
      "cell_type": "code",
      "source": [
        "model = compose.Pipeline(\n",
        "    ('tokenizing data', feature_extraction.BagOfWords(lowercase=False)),\n",
        "    ('algorithm', naive_bayes.MultinomialNB(alpha=1)))"
      ],
      "metadata": {
        "id": "GBXFJ81gkZvD"
      },
      "execution_count": 5,
      "outputs": []
    },
    {
      "cell_type": "code",
      "source": [
        "for lines, label in data:\n",
        "     model = model.fit_one(lines, label)"
      ],
      "metadata": {
        "id": "3sKCArIgkZd0"
      },
      "execution_count": 6,
      "outputs": []
    },
    {
      "cell_type": "markdown",
      "source": [
        "#Testing on new data"
      ],
      "metadata": {
        "id": "bKH72woJmclM"
      }
    },
    {
      "cell_type": "code",
      "source": [
        "model.predict_one(\"Abhishek is from Japan\")\n"
      ],
      "metadata": {
        "colab": {
          "base_uri": "https://localhost:8080/",
          "height": 35
        },
        "id": "Ga0eiNNZmJs6",
        "outputId": "9922a856-494d-4461-9e75-b52a63ec9d2c"
      },
      "execution_count": 7,
      "outputs": [
        {
          "output_type": "execute_result",
          "data": {
            "text/plain": [
              "'no'"
            ],
            "application/vnd.google.colaboratory.intrinsic+json": {
              "type": "string"
            }
          },
          "metadata": {},
          "execution_count": 7
        }
      ]
    },
    {
      "cell_type": "markdown",
      "source": [
        "# Training on a new data \n"
      ],
      "metadata": {
        "id": "TkZWZ2fxkhBD"
      }
    },
    {
      "cell_type": "code",
      "source": [
        "model.fit_one('Simran is married','no')\n"
      ],
      "metadata": {
        "colab": {
          "base_uri": "https://localhost:8080/"
        },
        "id": "5Lm8Wz_mkhhG",
        "outputId": "3a2c6031-d97a-4024-8903-c0eed01076dc"
      },
      "execution_count": 8,
      "outputs": [
        {
          "output_type": "execute_result",
          "data": {
            "text/plain": [
              "Pipeline (\n",
              "  BagOfWords (\n",
              "    on=None\n",
              "    strip_accents=True\n",
              "    lowercase=False\n",
              "    preprocessor=None\n",
              "    tokenizer=<built-in method findall of re.Pattern object at 0x7f2d40b085e0>\n",
              "    ngram_range=(1, 1)\n",
              "  ),\n",
              "  MultinomialNB (\n",
              "    alpha=1\n",
              "  )\n",
              ")"
            ]
          },
          "metadata": {},
          "execution_count": 8
        }
      ]
    },
    {
      "cell_type": "markdown",
      "source": [
        "#Testing on new data after retraining"
      ],
      "metadata": {
        "id": "dg9kTG_gkpzj"
      }
    },
    {
      "cell_type": "code",
      "source": [
        "model.predict_one(\"Neha is married\")"
      ],
      "metadata": {
        "colab": {
          "base_uri": "https://localhost:8080/",
          "height": 35
        },
        "id": "KCoRU9kIknwS",
        "outputId": "142a0e33-3ab3-446b-c2b6-18f265bc4f43"
      },
      "execution_count": 9,
      "outputs": [
        {
          "output_type": "execute_result",
          "data": {
            "text/plain": [
              "'no'"
            ],
            "application/vnd.google.colaboratory.intrinsic+json": {
              "type": "string"
            }
          },
          "metadata": {},
          "execution_count": 9
        }
      ]
    },
    {
      "cell_type": "markdown",
      "source": [
        "# With the help of creme library Incremental training can be perform and if new class appear it will train that also."
      ],
      "metadata": {
        "id": "qvGqwFrDmnBw"
      }
    }
  ]
}